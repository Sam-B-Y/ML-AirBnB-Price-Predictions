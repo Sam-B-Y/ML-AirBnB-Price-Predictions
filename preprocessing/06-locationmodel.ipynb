{
 "cells": [
  {
   "cell_type": "code",
   "execution_count": null,
   "metadata": {},
   "outputs": [],
   "source": [
    "import pandas as pd\n",
    "import plotly.express as px\n",
    "from sklearn.neighbors import NearestNeighbors\n",
    "from sklearn.cluster import KMeans \n",
    "import numpy as np\n",
    "\n",
    "pd.set_option('display.max_columns', None)"
   ]
  },
  {
   "cell_type": "code",
   "execution_count": null,
   "metadata": {},
   "outputs": [],
   "source": [
    "df = pd.read_csv('../data/train_imputed.csv')\n",
    "\n",
    "df['latitude'] = df['latitude'].astype(float)\n",
    "df['longitude'] = df['longitude'].astype(float)\n",
    "\n",
    "neighborhood_cols = [col for col in df.columns if col.startswith('neighbourhood_cleansed')]\n",
    "print(neighborhood_cols)"
   ]
  },
  {
   "cell_type": "code",
   "execution_count": null,
   "metadata": {},
   "outputs": [],
   "source": [
    "df['neighborhood'] = df[neighborhood_cols].idxmax(axis=1).str.replace('neighbourhood_cleansed_', '')\n",
    "neighborhood_counts = df['neighborhood'].value_counts()\n",
    "filtered_neighborhoods = neighborhood_counts[neighborhood_counts > 5].index\n",
    "\n",
    "avg_price_per_person = df[df['neighborhood'].isin(filtered_neighborhoods)].groupby('neighborhood').apply(lambda x: ((x['price']) / x['accommodates']).mean()).to_dict()\n",
    "# avg_price_per_person = df[df['neighborhood'].isin(filtered_neighborhoods)].groupby('neighborhood').apply(lambda x: (x['price'] / x['accommodates']).median()).to_dict()\n",
    "\n",
    "print(avg_price_per_person)"
   ]
  },
  {
   "cell_type": "code",
   "execution_count": null,
   "metadata": {},
   "outputs": [],
   "source": [
    "df['avg_ppp_neighborhood'] = df['neighborhood'].map(avg_price_per_person)\n",
    "df = df.drop(columns=neighborhood_cols)"
   ]
  },
  {
   "cell_type": "code",
   "execution_count": null,
   "metadata": {},
   "outputs": [],
   "source": [
    "n_neighbors = 5\n",
    "\n",
    "knn = NearestNeighbors(n_neighbors=n_neighbors)\n",
    "knn.fit(df[['latitude', 'longitude']])\n",
    "distances, indices = knn.kneighbors(df[['latitude', 'longitude']])"
   ]
  },
  {
   "cell_type": "code",
   "execution_count": null,
   "metadata": {},
   "outputs": [],
   "source": [
    "fig = px.scatter_mapbox(df, lat=\"latitude\", lon=\"longitude\", hover_name=\"avg_ppp_neighborhood\", hover_data=[\"neighborhood\"],\n",
    "                        color=\"avg_ppp_neighborhood\", \n",
    "                        color_continuous_scale=px.colors.sequential.Jet, \n",
    "                        size_max=30, zoom=9.5, height=600)\n",
    "fig.update_layout(mapbox_style=\"open-street-map\")\n",
    "fig.update_layout(margin={\"r\":0,\"t\":0,\"l\":0,\"b\":0})\n",
    "fig.show()"
   ]
  },
  {
   "cell_type": "code",
   "execution_count": null,
   "metadata": {},
   "outputs": [],
   "source": [
    "missing_values = df[df['avg_ppp_neighborhood'].isnull()]\n",
    "non_missing_values = df[df['avg_ppp_neighborhood'].notnull()]\n",
    "\n",
    "nn = NearestNeighbors(n_neighbors=1, algorithm='ball_tree')\n",
    "nn.fit(non_missing_values[['latitude', 'longitude']])\n",
    "distances, indices = nn.kneighbors(missing_values[['latitude', 'longitude']])\n",
    "df.loc[missing_values.index, 'avg_ppp_neighborhood'] = non_missing_values.iloc[indices.flatten()]['avg_ppp_neighborhood'].values"
   ]
  },
  {
   "cell_type": "code",
   "execution_count": null,
   "metadata": {},
   "outputs": [],
   "source": [
    "fig = px.scatter_mapbox(df, lat=\"latitude\", lon=\"longitude\", hover_name=\"avg_ppp_neighborhood\", hover_data=[\"neighborhood\"],\n",
    "                        color=\"avg_ppp_neighborhood\", \n",
    "                        color_continuous_scale=px.colors.sequential.Jet, \n",
    "                        size_max=30, zoom=9.5, height=600)\n",
    "fig.update_layout(mapbox_style=\"open-street-map\")\n",
    "fig.update_layout(margin={\"r\":0,\"t\":0,\"l\":0,\"b\":0})\n",
    "fig.show()"
   ]
  },
  {
   "cell_type": "code",
   "execution_count": null,
   "metadata": {},
   "outputs": [],
   "source": [
    "# apply the same transformation to the test set\n",
    "df_test = pd.read_csv('../data/test_imputed.csv')\n",
    "\n",
    "neighborhood_cols = [col for col in df_test.columns if col.startswith('neighbourhood_cleansed')]\n",
    "\n",
    "df_test['neighborhood'] = df_test[neighborhood_cols].idxmax(axis=1).str.replace('neighbourhood_cleansed_', '')\n",
    "df_test['avg_ppp_neighborhood'] = df_test['neighborhood'].map(avg_price_per_person)\n",
    "df_test = df_test.drop(columns=neighborhood_cols)\n",
    "\n",
    "missing_values = df_test[df_test['avg_ppp_neighborhood'].isnull()]\n",
    "\n",
    "nn = NearestNeighbors(n_neighbors=1, algorithm='ball_tree')\n",
    "nn.fit(df[['latitude', 'longitude']])\n",
    "distances, indices = nn.kneighbors(missing_values[['latitude', 'longitude']])\n",
    "df_test.loc[missing_values.index, 'avg_ppp_neighborhood'] = df.iloc[indices.flatten()]['avg_ppp_neighborhood'].values\n",
    "\n",
    "distances, indices = knn.kneighbors(df_test[['latitude', 'longitude']])"
   ]
  },
  {
   "cell_type": "code",
   "execution_count": null,
   "metadata": {},
   "outputs": [],
   "source": [
    "fig = px.scatter_mapbox(df_test, lat=\"latitude\", lon=\"longitude\", hover_name=\"avg_ppp_neighborhood\", hover_data=[\"neighborhood\"],\n",
    "                        color=\"avg_ppp_neighborhood\", \n",
    "                        color_continuous_scale=px.colors.sequential.Jet, \n",
    "                        size_max=30, zoom=9.5, height=600)\n",
    "fig.update_layout(mapbox_style=\"open-street-map\")\n",
    "fig.update_layout(margin={\"r\":0,\"t\":0,\"l\":0,\"b\":0})\n",
    "fig.show()"
   ]
  },
  {
   "cell_type": "code",
   "execution_count": null,
   "metadata": {},
   "outputs": [],
   "source": [
    "landmarks = {\n",
    "    'Statue of Liberty': [40.6892, -74.0445],\n",
    "    'Central Park': [40.785091, -73.968285],\n",
    "    'Empire State Building': [40.748817, -73.985428],\n",
    "    'Brooklyn Bridge': [40.706086, -73.996864],\n",
    "    'Times Square': [40.7580, -73.9855],\n",
    "    'Rockefeller Center': [40.7587, -73.9787],\n",
    "}\n",
    "\n",
    "for landmark, coords in landmarks.items():\n",
    "    df[f'distance_to_{landmark}'] = np.sqrt((df['latitude'] - coords[0])**2 + (df['longitude'] - coords[1])**2)\n",
    "    df_test[f'distance_to_{landmark}'] = np.sqrt((df_test['latitude'] - coords[0])**2 + (df_test['longitude'] - coords[1])**2)\n",
    "\n",
    "landmark_cols = [col for col in df.columns if col.startswith('distance_to_')]\n",
    "df['distance_to_closest_landmark'] = df[landmark_cols].min(axis=1)\n",
    "df_test['distance_to_closest_landmark'] = df_test[landmark_cols].min(axis=1)"
   ]
  },
  {
   "cell_type": "code",
   "execution_count": null,
   "metadata": {},
   "outputs": [],
   "source": [
    "final_train_df = df.drop(columns=['latitude', 'longitude','neighborhood'])\n",
    "final_train_df.head()"
   ]
  },
  {
   "cell_type": "code",
   "execution_count": null,
   "metadata": {},
   "outputs": [],
   "source": [
    "df_test = df_test.drop(columns=['latitude', 'longitude','neighborhood'])\n",
    "df_test.head()"
   ]
  },
  {
   "cell_type": "code",
   "execution_count": null,
   "metadata": {},
   "outputs": [],
   "source": [
    "print(set(final_train_df.columns) - set(df_test.columns))\n",
    "print(set(df_test.columns) - set(final_train_df.columns))"
   ]
  },
  {
   "cell_type": "code",
   "execution_count": null,
   "metadata": {},
   "outputs": [],
   "source": [
    "final_train_df.to_csv('../data/train_location.csv', index=False)\n",
    "df_test.to_csv('../data/test_location.csv', index=False)"
   ]
  }
 ],
 "metadata": {
  "kernelspec": {
   "display_name": "venv",
   "language": "python",
   "name": "python3"
  },
  "language_info": {
   "codemirror_mode": {
    "name": "ipython",
    "version": 3
   },
   "file_extension": ".py",
   "mimetype": "text/x-python",
   "name": "python",
   "nbconvert_exporter": "python",
   "pygments_lexer": "ipython3",
   "version": "3.12.7"
  }
 },
 "nbformat": 4,
 "nbformat_minor": 2
}
