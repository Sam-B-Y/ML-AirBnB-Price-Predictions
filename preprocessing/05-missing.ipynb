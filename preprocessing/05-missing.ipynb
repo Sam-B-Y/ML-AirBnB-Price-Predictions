{
 "cells": [
  {
   "cell_type": "code",
   "execution_count": null,
   "metadata": {},
   "outputs": [],
   "source": [
    "import pandas as pd\n",
    "import matplotlib.pyplot as plt\n",
    "from sklearn.impute import KNNImputer\n",
    "pd.set_option(\"display.max_columns\", None)"
   ]
  },
  {
   "cell_type": "code",
   "execution_count": null,
   "metadata": {},
   "outputs": [],
   "source": [
    "train_df = pd.read_csv('../data/train_nlp2.csv')\n",
    "test_df = pd.read_csv('../data/test_nlp2.csv')"
   ]
  },
  {
   "cell_type": "code",
   "execution_count": null,
   "metadata": {},
   "outputs": [],
   "source": [
    "train_df = train_df.drop_duplicates()"
   ]
  },
  {
   "cell_type": "code",
   "execution_count": null,
   "metadata": {},
   "outputs": [],
   "source": [
    "train_df.describe()"
   ]
  },
  {
   "cell_type": "code",
   "execution_count": null,
   "metadata": {},
   "outputs": [],
   "source": [
    "missing = train_df.isnull().sum()\n",
    "missing = missing[missing > 0]\n",
    "missing"
   ]
  },
  {
   "cell_type": "code",
   "execution_count": null,
   "metadata": {},
   "outputs": [],
   "source": [
    "fig, ax = plt.subplots(3, 4, figsize=(20, 10))\n",
    "ax = ax.flatten()\n",
    "cols = ['host_is_superhost', 'review_scores_rating', 'review_scores_accuracy', 'review_scores_cleanliness', 'review_scores_checkin', 'review_scores_communication', 'review_scores_location', 'review_scores_value', 'reviews_per_month', 'time_since_first_review', 'time_since_last_review']\n",
    "for i, col in enumerate(cols):\n",
    "    train_df[col].hist(ax=ax[i])\n",
    "    ax[i].set_title(col)\n",
    "plt.tight_layout()\n",
    "plt.show()"
   ]
  },
  {
   "cell_type": "code",
   "execution_count": null,
   "metadata": {},
   "outputs": [],
   "source": [
    "train_df['host_is_superhost'] = train_df['host_is_superhost'].fillna(0)\n",
    "test_df['host_is_superhost'] = test_df['host_is_superhost'].fillna(0)\n",
    "\n",
    "train_df['no_reviews'] = train_df['review_scores_rating'].isnull().astype(int)\n",
    "test_df['no_reviews'] = test_df['review_scores_rating'].isnull().astype(int)\n",
    "\n",
    "train_df['has_availability'] = train_df['has_availability'].fillna(0)\n",
    "test_df['has_availability'] = test_df['has_availability'].fillna(0)\n",
    "\n",
    "mean_review_scores_rating = train_df['review_scores_rating'].mean()\n",
    "mean_review_scores_accuracy = train_df['review_scores_accuracy'].mean()\n",
    "mean_review_scores_cleanliness = train_df['review_scores_cleanliness'].mean()\n",
    "mean_review_scores_checkin = train_df['review_scores_checkin'].mean()\n",
    "mean_review_scores_communication = train_df['review_scores_communication'].mean()\n",
    "mean_review_scores_location = train_df['review_scores_location'].mean()\n",
    "mean_review_scores_value = train_df['review_scores_value'].mean()\n",
    "mean_reviews_per_month = train_df['reviews_per_month'].mean()\n",
    "mean_review_sentiment = train_df['review_sentiment'].mean()\n",
    "mean_avg_review_length = train_df['avg_review_length'].mean()\n",
    "\n",
    "mean_time_since_first_review = train_df['time_since_first_review'].mean()\n",
    "mean_time_since_last_review = train_df['time_since_last_review'].mean()\n",
    "\n",
    "train_df['review_scores_rating'] = train_df['review_scores_rating'].fillna(mean_review_scores_rating)\n",
    "train_df['review_scores_accuracy'] = train_df['review_scores_accuracy'].fillna(mean_review_scores_accuracy)\n",
    "train_df['review_scores_cleanliness'] = train_df['review_scores_cleanliness'].fillna(mean_review_scores_cleanliness)\n",
    "train_df['review_scores_checkin'] = train_df['review_scores_checkin'].fillna(mean_review_scores_checkin)\n",
    "train_df['review_scores_communication'] = train_df['review_scores_communication'].fillna(mean_review_scores_communication)\n",
    "train_df['review_scores_location'] = train_df['review_scores_location'].fillna(mean_review_scores_location)\n",
    "train_df['review_scores_value'] = train_df['review_scores_value'].fillna(mean_review_scores_value)\n",
    "train_df['reviews_per_month'] = train_df['reviews_per_month'].fillna(mean_reviews_per_month)\n",
    "train_df['time_since_first_review'] = train_df['time_since_first_review'].fillna(mean_time_since_first_review)\n",
    "train_df['time_since_last_review'] = train_df['time_since_last_review'].fillna(mean_time_since_last_review)\n",
    "train_df['review_sentiment'] = train_df['review_sentiment'].fillna(mean_review_sentiment)\n",
    "train_df['avg_review_length'] = train_df['avg_review_length'].fillna(mean_avg_review_length)\n",
    "\n",
    "test_df['review_scores_rating'] = test_df['review_scores_rating'].fillna(mean_review_scores_rating)\n",
    "test_df['review_scores_accuracy'] = test_df['review_scores_accuracy'].fillna(mean_review_scores_accuracy)\n",
    "test_df['review_scores_cleanliness'] = test_df['review_scores_cleanliness'].fillna(mean_review_scores_cleanliness)\n",
    "test_df['review_scores_checkin'] = test_df['review_scores_checkin'].fillna(mean_review_scores_checkin)\n",
    "test_df['review_scores_communication'] = test_df['review_scores_communication'].fillna(mean_review_scores_communication)\n",
    "test_df['review_scores_location'] = test_df['review_scores_location'].fillna(mean_review_scores_location)\n",
    "test_df['review_scores_value'] = test_df['review_scores_value'].fillna(mean_review_scores_value)\n",
    "test_df['reviews_per_month'] = test_df['reviews_per_month'].fillna(mean_reviews_per_month)\n",
    "test_df['time_since_first_review'] = test_df['time_since_first_review'].fillna(mean_time_since_first_review)\n",
    "test_df['time_since_last_review'] = test_df['time_since_last_review'].fillna(mean_time_since_last_review)\n",
    "test_df['review_sentiment'] = test_df['review_sentiment'].fillna(mean_review_sentiment)\n",
    "test_df['avg_review_length'] = test_df['avg_review_length'].fillna(mean_avg_review_length)"
   ]
  },
  {
   "cell_type": "code",
   "execution_count": null,
   "metadata": {},
   "outputs": [],
   "source": [
    "missing = train_df.isnull().sum()\n",
    "missing = missing[missing > 0]\n",
    "missing"
   ]
  },
  {
   "cell_type": "code",
   "execution_count": null,
   "metadata": {},
   "outputs": [],
   "source": [
    "# show the distributions have clear means\n",
    "fig, ax = plt.subplots(1, 2, figsize=(20, 5))\n",
    "train_df['host_response_time'].value_counts().plot(kind='bar', ax=ax[0])\n",
    "train_df['host_response_rate'].value_counts().plot(kind='bar', ax=ax[1])\n",
    "plt.show()"
   ]
  },
  {
   "cell_type": "code",
   "execution_count": null,
   "metadata": {},
   "outputs": [],
   "source": [
    "train_df['no_messages'] = train_df['host_response_rate'].isnull().astype(int)\n",
    "test_df['no_messages'] = test_df['host_response_rate'].isnull().astype(int)\n",
    "\n",
    "mean_host_response_time = train_df['host_response_time'].mean()\n",
    "mean_host_response_rate = train_df['host_response_rate'].mean()\n",
    "mean_host_acceptance_rate = train_df['host_acceptance_rate'].mean()\n",
    "\n",
    "train_df['host_response_time'] = train_df['host_response_time'].fillna(mean_host_response_time)\n",
    "train_df['host_response_rate'] = train_df['host_response_rate'].fillna(mean_host_response_rate)\n",
    "train_df['host_acceptance_rate'] = train_df['host_acceptance_rate'].fillna(mean_host_acceptance_rate)\n",
    "\n",
    "test_df['host_response_time'] = test_df['host_response_time'].fillna(mean_host_response_time)\n",
    "test_df['host_response_rate'] = test_df['host_response_rate'].fillna(mean_host_response_rate)\n",
    "test_df['host_acceptance_rate'] = test_df['host_acceptance_rate'].fillna(mean_host_acceptance_rate)"
   ]
  },
  {
   "cell_type": "code",
   "execution_count": null,
   "metadata": {},
   "outputs": [],
   "source": [
    "mode_bathrooms_shared = train_df['bathrooms_shared'].mode()[0]\n",
    "\n",
    "train_df['bathrooms_shared'] = train_df['bathrooms_shared'].fillna(mode_bathrooms_shared)\n",
    "test_df['bathrooms_shared'] = test_df['bathrooms_shared'].fillna(mode_bathrooms_shared)"
   ]
  },
  {
   "cell_type": "code",
   "execution_count": null,
   "metadata": {},
   "outputs": [],
   "source": [
    "train_df['listing_length'] = train_df['listing_length'].fillna(0)\n",
    "test_df['listing_length'] = test_df['listing_length'].fillna(0)"
   ]
  },
  {
   "cell_type": "code",
   "execution_count": null,
   "metadata": {},
   "outputs": [],
   "source": [
    "missing = train_df.isnull().sum()\n",
    "missing = missing[missing > 0]\n",
    "missing"
   ]
  },
  {
   "cell_type": "code",
   "execution_count": null,
   "metadata": {},
   "outputs": [],
   "source": [
    "imputer = KNNImputer(n_neighbors=5)\n",
    "cols = ['accommodates', 'bathrooms', 'bathrooms_shared', 'bedrooms', 'beds']\n",
    "train_df[cols] = imputer.fit_transform(train_df[cols])\n",
    "test_df[cols] = imputer.transform(test_df[cols])"
   ]
  },
  {
   "cell_type": "code",
   "execution_count": null,
   "metadata": {},
   "outputs": [],
   "source": [
    "missing = train_df.isnull().sum()\n",
    "missing = missing[missing > 0]\n",
    "missing"
   ]
  },
  {
   "cell_type": "code",
   "execution_count": null,
   "metadata": {},
   "outputs": [],
   "source": [
    "# save files\n",
    "train_df.to_csv('../data/train_imputed.csv', index=False)\n",
    "test_df.to_csv('../data/test_imputed.csv', index=False)"
   ]
  }
 ],
 "metadata": {
  "kernelspec": {
   "display_name": "venv",
   "language": "python",
   "name": "python3"
  },
  "language_info": {
   "codemirror_mode": {
    "name": "ipython",
    "version": 3
   },
   "file_extension": ".py",
   "mimetype": "text/x-python",
   "name": "python",
   "nbconvert_exporter": "python",
   "pygments_lexer": "ipython3",
   "version": "3.12.7"
  }
 },
 "nbformat": 4,
 "nbformat_minor": 2
}
