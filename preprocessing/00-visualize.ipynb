{
 "cells": [
  {
   "cell_type": "code",
   "execution_count": null,
   "metadata": {},
   "outputs": [],
   "source": [
    "import pandas as pd\n",
    "from sklearn.preprocessing import OneHotEncoder\n",
    "import matplotlib.pyplot as plt\n",
    "import plotly.express as px\n",
    "import seaborn as sns\n",
    "import numpy as np\n",
    "import ast\n",
    "\n",
    "pd.set_option(\"display.max_columns\", None)"
   ]
  },
  {
   "cell_type": "code",
   "execution_count": null,
   "metadata": {},
   "outputs": [],
   "source": [
    "df = pd.read_csv('../data/train.csv')\n",
    "df.head()"
   ]
  },
  {
   "cell_type": "code",
   "execution_count": null,
   "metadata": {},
   "outputs": [],
   "source": [
    "df.shape"
   ]
  },
  {
   "cell_type": "code",
   "execution_count": null,
   "metadata": {},
   "outputs": [],
   "source": [
    "df.describe()"
   ]
  },
  {
   "cell_type": "code",
   "execution_count": null,
   "metadata": {},
   "outputs": [],
   "source": [
    "print(df.columns)"
   ]
  },
  {
   "cell_type": "code",
   "execution_count": null,
   "metadata": {},
   "outputs": [],
   "source": [
    "df.describe()"
   ]
  },
  {
   "cell_type": "code",
   "execution_count": null,
   "metadata": {},
   "outputs": [],
   "source": [
    "# plotting target variable\n",
    "\n",
    "sns.histplot(df['price'], bins=50)\n",
    "plt.title('Distribution of Airbnb Prices')\n",
    "plt.xlabel('Price')\n",
    "plt.ylabel('Count')\n",
    "plt.show()"
   ]
  },
  {
   "cell_type": "code",
   "execution_count": null,
   "metadata": {},
   "outputs": [],
   "source": [
    "# plotting the airbnb listings by location and bed price\n",
    "\n",
    "df.dropna(subset=['price', 'latitude', 'longitude', 'neighbourhood_cleansed', 'beds'], inplace=True)\n",
    "\n",
    "# include the neighborhood, price, and number of beds in the hover data\n",
    "fig = px.scatter_mapbox(df, lat=\"latitude\", lon=\"longitude\", hover_name=\"price\", hover_data=[\"neighbourhood_cleansed\", \"neighbourhood_group_cleansed\", \"accommodates\"],\n",
    "                        color=\"price\", \n",
    "                        color_continuous_scale=px.colors.sequential.Jet, \n",
    "                        size_max=30, zoom=9.5, height=600)\n",
    "fig.update_layout(mapbox_style=\"open-street-map\")\n",
    "fig.update_layout(margin={\"r\":0,\"t\":0,\"l\":0,\"b\":0})\n",
    "\n",
    "# plot some landmarks in NYC\n",
    "landmarks = pd.DataFrame({\n",
    "    'name': ['Statue of Liberty', 'Central Park', 'Empire State Building', 'Brooklyn Bridge'],\n",
    "    'latitude': [40.6892, 40.785091, 40.748817, 40.706086],\n",
    "    'longitude': [-74.0445, -73.968285, -73.985428, -73.996864]\n",
    "})\n",
    "landmarks = pd.concat([landmarks, pd.DataFrame({\n",
    "    'name': ['Times Square', 'Rockefeller Center', 'One World Trade Center', 'Broadway Theatre'],\n",
    "    'latitude': [40.7580, 40.7587, 40.7127, 40.7590],\n",
    "    'longitude': [-73.9855, -73.9787, -74.0134, -73.9845]\n",
    "})])\n",
    "\n",
    "for i, row in landmarks.iterrows():\n",
    "    fig.add_scattermapbox(\n",
    "        lat=[row['latitude']],\n",
    "        lon=[row['longitude']],\n",
    "        mode='markers+text',\n",
    "        marker=dict(size=15, color='white'),\n",
    "        text=row['name'],\n",
    "        textposition='top center',\n",
    "        showlegend=False\n",
    "    )\n",
    "\n",
    "fig.show()"
   ]
  },
  {
   "cell_type": "code",
   "execution_count": null,
   "metadata": {},
   "outputs": [],
   "source": [
    "# plot all distributions of the numerical features\n",
    "df.hist(bins=50, figsize=(30, 15))"
   ]
  }
 ],
 "metadata": {
  "kernelspec": {
   "display_name": "venv",
   "language": "python",
   "name": "python3"
  },
  "language_info": {
   "codemirror_mode": {
    "name": "ipython",
    "version": 3
   },
   "file_extension": ".py",
   "mimetype": "text/x-python",
   "name": "python",
   "nbconvert_exporter": "python",
   "pygments_lexer": "ipython3",
   "version": "3.12.7"
  }
 },
 "nbformat": 4,
 "nbformat_minor": 2
}
