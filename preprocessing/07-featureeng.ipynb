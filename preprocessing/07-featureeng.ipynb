{
 "cells": [
  {
   "cell_type": "code",
   "execution_count": null,
   "metadata": {},
   "outputs": [],
   "source": [
    "import pandas as pd\n",
    "import matplotlib.pyplot as plt\n",
    "import seaborn as sns\n",
    "from sklearn.decomposition import PCA\n",
    "from sklearn.preprocessing import StandardScaler\n",
    "\n",
    "\n",
    "pd.set_option('display.max_columns', None)"
   ]
  },
  {
   "cell_type": "code",
   "execution_count": null,
   "metadata": {},
   "outputs": [],
   "source": [
    "df = pd.read_csv('../data/train_location.csv')\n",
    "test_df = pd.read_csv('../data/test_location.csv')\n",
    "df.describe()"
   ]
  },
  {
   "cell_type": "code",
   "execution_count": null,
   "metadata": {},
   "outputs": [],
   "source": [
    "drop_cols = ['pet-friendly']\n",
    "\n",
    "df.drop(columns=drop_cols, inplace=True)\n",
    "\n",
    "for col in drop_cols:\n",
    "    if col in test_df.columns:\n",
    "        test_df.drop(columns=col, inplace=True)"
   ]
  },
  {
   "cell_type": "code",
   "execution_count": null,
   "metadata": {},
   "outputs": [],
   "source": [
    "correlation_matrix = df.corr().abs()\n",
    "\n",
    "plt.figure(figsize=(200, 200))\n",
    "sns.heatmap(correlation_matrix, annot=True, fmt=\".2f\", cmap='coolwarm')\n",
    "plt.title('Correlation Matrix')\n",
    "plt.show()"
   ]
  },
  {
   "cell_type": "code",
   "execution_count": null,
   "metadata": {},
   "outputs": [],
   "source": [
    "review_columns = [col for col in df.columns if 'review' in col]\n",
    "\n",
    "correlation_matrix = df[review_columns].corr().abs()\n",
    "\n",
    "plt.figure(figsize=(10, 10))\n",
    "sns.heatmap(correlation_matrix, annot=True, fmt=\".2f\", cmap='coolwarm')\n",
    "plt.title('Correlation Matrix for review features')\n",
    "plt.show()"
   ]
  },
  {
   "cell_type": "code",
   "execution_count": null,
   "metadata": {},
   "outputs": [],
   "source": [
    "reviews_pca_variables = ['review_scores_rating', 'review_scores_accuracy', 'review_scores_cleanliness', 'review_scores_checkin', 'review_scores_communication', 'review_scores_value', 'review_sentiment']\n",
    "\n",
    "scaler = StandardScaler()\n",
    "df[reviews_pca_variables] = scaler.fit_transform(df[reviews_pca_variables])\n",
    "\n",
    "pca = PCA(n_components=4)\n",
    "pca_result = pca.fit_transform(df[reviews_pca_variables])\n",
    "\n",
    "print(pca.explained_variance_ratio_)"
   ]
  },
  {
   "cell_type": "code",
   "execution_count": null,
   "metadata": {},
   "outputs": [],
   "source": [
    "# host responsiveness and host response time are highly correlated, so we can drop one of them as they represent the willingness of the host to communicate with the guests\n",
    "df.drop(columns=['host_response_time'], inplace=True)\n",
    "test_df.drop(columns=['host_response_time'], inplace=True)"
   ]
  },
  {
   "cell_type": "code",
   "execution_count": null,
   "metadata": {},
   "outputs": [],
   "source": [
    "listing_column = [col for col in df.columns if 'listing' in col]\n",
    "\n",
    "correlation_matrix = df[listing_column].corr().abs()\n",
    "\n",
    "plt.figure(figsize=(5, 5))\n",
    "sns.heatmap(correlation_matrix, annot=True, fmt=\".2f\", cmap='coolwarm')\n",
    "plt.title('Correlation Matrix for listings features')\n",
    "plt.show()"
   ]
  },
  {
   "cell_type": "code",
   "execution_count": null,
   "metadata": {},
   "outputs": [],
   "source": [
    "# drop host_listings_count and host_total_listings_count as we have the same info in calculated_host_listings_count\n",
    "df.drop(columns=['host_listings_count', 'host_total_listings_count'], inplace=True)\n",
    "test_df.drop(columns=['host_listings_count', 'host_total_listings_count'], inplace=True)"
   ]
  },
  {
   "cell_type": "code",
   "execution_count": null,
   "metadata": {},
   "outputs": [],
   "source": [
    "availability_range = [30, 60, 90, 365]\n",
    "for availability in availability_range:\n",
    "    df['availability_' + str(availability)] = df['availability_' + str(availability)] / availability\n",
    "    test_df['availability_' + str(availability)] = test_df['availability_' + str(availability)] / availability"
   ]
  },
  {
   "cell_type": "code",
   "execution_count": null,
   "metadata": {},
   "outputs": [],
   "source": [
    "availability_cols = [col for col in df.columns if 'availab' in col]\n",
    "\n",
    "correlation_matrix = df[availability_cols].corr().abs()\n",
    "\n",
    "plt.figure(figsize=(5, 5))\n",
    "sns.heatmap(correlation_matrix, annot=True, fmt=\".2f\", cmap='coolwarm')\n",
    "plt.title('Correlation Matrix for availability features')\n",
    "plt.show()"
   ]
  },
  {
   "cell_type": "code",
   "execution_count": null,
   "metadata": {},
   "outputs": [],
   "source": [
    "availability_range = ['availability_30', 'availability_60', 'availability_90']\n",
    "plt.figure(figsize=(20, 10))\n",
    "for availability in availability_range:\n",
    "    sns.histplot(df[availability], kde=True, bins=100, label=availability)"
   ]
  },
  {
   "cell_type": "code",
   "execution_count": null,
   "metadata": {},
   "outputs": [],
   "source": [
    "# run PCA on availability columns\n",
    "scaler = StandardScaler()\n",
    "df[availability_range] = scaler.fit_transform(df[availability_range])\n",
    "\n",
    "pca = PCA(n_components=2)\n",
    "pca.fit(df[availability_range])\n",
    "\n",
    "df['availability_pca1'] = pca.transform(df[availability_range])[:, 0]\n",
    "\n",
    "print(pca.explained_variance_ratio_)\n",
    "\n",
    "df.drop(columns=availability_range, inplace=True)\n",
    "\n",
    "test_df[availability_range] = scaler.transform(test_df[availability_range])\n",
    "\n",
    "test_df['availability_pca1'] = pca.transform(test_df[availability_range])[:, 0]\n",
    "\n",
    "test_df.drop(columns=availability_range, inplace=True)"
   ]
  },
  {
   "cell_type": "code",
   "execution_count": null,
   "metadata": {},
   "outputs": [],
   "source": [
    "test_df['amenities_count'] = test_df['air conditioning'] + test_df['breakfast'] + test_df['dryer'] + test_df['gym'] + test_df['kitchen'] + test_df['parking'] + test_df['pool'] + test_df['tv'] + test_df['view'] + test_df['washer']\n",
    "df['amenities_count'] = df['air conditioning'] + df['breakfast'] + df['dryer'] + df['gym'] + df['kitchen'] + df['parking'] + df['pool'] + df['tv'] + df['view'] + df['washer']"
   ]
  },
  {
   "cell_type": "code",
   "execution_count": null,
   "metadata": {},
   "outputs": [],
   "source": [
    "correlation_matrix = df.corr().abs()\n",
    "\n",
    "# Plot the correlation matrix\n",
    "plt.figure(figsize=(200, 200))\n",
    "sns.heatmap(correlation_matrix, annot=True, fmt=\".2f\", cmap='coolwarm')\n",
    "plt.title('Correlation Matrix')\n",
    "plt.show()"
   ]
  },
  {
   "cell_type": "code",
   "execution_count": null,
   "metadata": {},
   "outputs": [],
   "source": [
    "correlation_matrix = df.corr().abs()\n",
    "\n",
    "highly_correlated = correlation_matrix[correlation_matrix > 0.5]\n",
    "highly_correlated = highly_correlated[highly_correlated < 1]\n",
    "\n",
    "highly_correlated = highly_correlated.dropna(axis=0, how='all')\n",
    "highly_correlated = highly_correlated.dropna(axis=1, how='all')\n",
    "\n",
    "plt.figure(figsize=(10, 10))\n",
    "sns.heatmap(highly_correlated, annot=True, fmt=\".2f\", cmap='coolwarm')\n",
    "plt.title('Highly Correlated Columns')\n",
    "plt.show()"
   ]
  },
  {
   "cell_type": "code",
   "execution_count": null,
   "metadata": {},
   "outputs": [],
   "source": [
    "df.drop(columns=['host_has_profile_pic', 'room_type_Hotel room'], inplace=True)\n",
    "test_df.drop(columns=['host_has_profile_pic', 'room_type_Hotel room'], inplace=True)"
   ]
  },
  {
   "cell_type": "code",
   "execution_count": null,
   "metadata": {},
   "outputs": [],
   "source": [
    "df.describe()"
   ]
  },
  {
   "cell_type": "code",
   "execution_count": null,
   "metadata": {},
   "outputs": [],
   "source": [
    "df.to_csv('../data/train_final.csv', index=False)\n",
    "test_df.to_csv('../data/test_final.csv', index=False)"
   ]
  }
 ],
 "metadata": {
  "kernelspec": {
   "display_name": "venv",
   "language": "python",
   "name": "python3"
  },
  "language_info": {
   "codemirror_mode": {
    "name": "ipython",
    "version": 3
   },
   "file_extension": ".py",
   "mimetype": "text/x-python",
   "name": "python",
   "nbconvert_exporter": "python",
   "pygments_lexer": "ipython3",
   "version": "3.12.7"
  }
 },
 "nbformat": 4,
 "nbformat_minor": 2
}
