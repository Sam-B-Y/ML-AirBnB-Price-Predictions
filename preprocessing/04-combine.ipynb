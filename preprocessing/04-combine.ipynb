{
 "cells": [
  {
   "cell_type": "code",
   "execution_count": 18,
   "metadata": {},
   "outputs": [],
   "source": [
    "import pandas as pd"
   ]
  },
  {
   "cell_type": "code",
   "execution_count": null,
   "metadata": {},
   "outputs": [],
   "source": [
    "# combining the results of the review sentiment analysis and the previous feature engineering\n",
    "train_nlp1 = pd.read_csv('../data/train_nlp1.csv')\n",
    "train_sentiment = pd.read_csv('../data/train_sentiment.csv')\n",
    "\n",
    "train = pd.concat([train_nlp1, train_sentiment], axis=1)\n",
    "\n",
    "train.drop(columns=['reviews'], inplace=True)\n",
    "\n",
    "\n",
    "train.loc[train['number_of_reviews'] == 0, 'avg_review_length'] = None\n",
    "\n",
    "train.to_csv('../data/train_nlp2.csv', index=False)\n"
   ]
  },
  {
   "cell_type": "code",
   "execution_count": 20,
   "metadata": {},
   "outputs": [],
   "source": [
    "test_nlp1 = pd.read_csv('../data/test_nlp1.csv')\n",
    "test_sentiment = pd.read_csv('../data/test_sentiment.csv')\n",
    "\n",
    "test = pd.concat([test_nlp1, test_sentiment], axis=1)\n",
    "\n",
    "test.drop(columns=['reviews'], inplace=True)\n",
    "\n",
    "test.loc[test['number_of_reviews'] == 0, 'avg_review_length'] = None\n",
    "\n",
    "test.to_csv('../data/test_nlp2.csv', index=False)"
   ]
  }
 ],
 "metadata": {
  "kernelspec": {
   "display_name": "venv",
   "language": "python",
   "name": "python3"
  },
  "language_info": {
   "codemirror_mode": {
    "name": "ipython",
    "version": 3
   },
   "file_extension": ".py",
   "mimetype": "text/x-python",
   "name": "python",
   "nbconvert_exporter": "python",
   "pygments_lexer": "ipython3",
   "version": "3.12.7"
  }
 },
 "nbformat": 4,
 "nbformat_minor": 2
}
