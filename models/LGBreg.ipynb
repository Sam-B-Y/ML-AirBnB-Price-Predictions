{
 "cells": [
  {
   "cell_type": "code",
   "execution_count": null,
   "metadata": {},
   "outputs": [],
   "source": [
    "import pandas as pd\n",
    "import numpy as np\n",
    "from sklearn.model_selection import train_test_split, GridSearchCV, KFold, StratifiedKFold, RandomizedSearchCV\n",
    "from sklearn.metrics import mean_squared_error\n",
    "import seaborn as sns\n",
    "import matplotlib.pyplot as plt\n",
    "from sklearn.metrics import confusion_matrix\n",
    "import lightgbm as lgb\n",
    "pd.set_option('display.max_columns', None)"
   ]
  },
  {
   "cell_type": "code",
   "execution_count": null,
   "metadata": {},
   "outputs": [],
   "source": [
    "df = pd.read_csv('../data/train_location.csv')\n",
    "\n",
    "drop_cols = ['pet-friendly']\n",
    "df.drop(drop_cols, axis=1, inplace=True)\n",
    "\n",
    "# use if skipping grid search\n",
    "best_params = {'max_depth': 40, 'learning_rate': 0.05, 'n_estimators': 1000, 'min_child_samples': 30, 'subsample': 1.0, 'colsample_bytree': 1.0, 'reg_alpha': 0.5, 'reg_lambda': 1.0}\n",
    "\n",
    "df.head()"
   ]
  },
  {
   "cell_type": "code",
   "execution_count": null,
   "metadata": {},
   "outputs": [],
   "source": [
    "X = df.drop('price', axis=1)\n",
    "df['price'] = df['price'].astype(float)\n",
    "y = df['price']"
   ]
  },
  {
   "cell_type": "code",
   "execution_count": null,
   "metadata": {},
   "outputs": [],
   "source": [
    "X_train, X_val, y_train, y_val = train_test_split(X, y, test_size=0.15)\n",
    "\n",
    "lgb_reg = lgb.LGBMRegressor(objective='regression',\n",
    "                             metric='rmse',\n",
    "                            boosting_type='gbdt',\n",
    "                            verbose=-1)"
   ]
  },
  {
   "cell_type": "code",
   "execution_count": null,
   "metadata": {},
   "outputs": [],
   "source": [
    "param_dist = {                \n",
    "    'max_depth': [15, 25, 40],                  \n",
    "    'learning_rate': [0.001, 0.01, 0.05],        \n",
    "    'n_estimators': [100, 250, 500, 1000], \n",
    "    'min_child_samples': [20, 30, 40],\n",
    "    'subsample': [0.6, 0.8, 1.0],\n",
    "    'colsample_bytree': [0.6, 0.8, 1.0],  \n",
    "    'reg_alpha': [0.1, 0.5, 1.0],     \n",
    "    'reg_lambda': [0.1, 0.5, 1.0]      \n",
    "}\n",
    "\n",
    "cv = StratifiedKFold(n_splits=5, shuffle=True)\n",
    "\n",
    "grid_search = GridSearchCV(\n",
    "    estimator=lgb_reg,\n",
    "    scoring='neg_root_mean_squared_error',\n",
    "    cv=cv,\n",
    "    param_grid=param_dist,\n",
    "    verbose=10,\n",
    "    n_jobs=-1\n",
    ")"
   ]
  },
  {
   "cell_type": "code",
   "execution_count": null,
   "metadata": {},
   "outputs": [],
   "source": [
    "# This function fits the random search to tune the hyperparameters. It will take a while to run.\n",
    "# skip this cell if best_params are known\n",
    "\n",
    "grid_search.fit(\n",
    "    X_train, y_train\n",
    ")\n",
    "\n",
    "best_params = grid_search.best_params_\n",
    "print(best_params)"
   ]
  },
  {
   "cell_type": "code",
   "execution_count": null,
   "metadata": {},
   "outputs": [],
   "source": [
    "final_model = lgb.LGBMRegressor(objective='regression',\n",
    "                             metric='rmse',\n",
    "                            boosting_type='gbdt', random_state=42,  **best_params)\n",
    "\n",
    "final_model.fit(\n",
    "    X_train, y_train\n",
    ")"
   ]
  },
  {
   "cell_type": "code",
   "execution_count": null,
   "metadata": {},
   "outputs": [],
   "source": [
    "# checking validation error\n",
    "\n",
    "y_predicted = final_model.predict(X_val)\n",
    "\n",
    "y_pred_val = np.clip(np.round(y_predicted), 0, 5)\n",
    "rmse = np.sqrt(mean_squared_error(y_val, y_pred_val))\n",
    "print(f'Validation RMSE: {rmse}')\n",
    "\n",
    "sns.heatmap(confusion_matrix(y_val, y_pred_val), annot=True, fmt=\"d\", cmap='Blues')\n",
    "plt.ylabel('True')\n",
    "plt.xlabel('Predicted')\n",
    "\n",
    "plt.show()"
   ]
  },
  {
   "cell_type": "code",
   "execution_count": null,
   "metadata": {},
   "outputs": [],
   "source": []
  },
  {
   "cell_type": "code",
   "execution_count": null,
   "metadata": {},
   "outputs": [],
   "source": [
    "# checking train error for overfitting\n",
    "\n",
    "y_train_predicted = final_model.predict(X_train)\n",
    "y_pred_train = np.clip(np.round(y_train_predicted), 0, 5)\n",
    "rmse = np.sqrt(mean_squared_error(y_train, y_pred_train))\n",
    "print(f'Train RMSE: {rmse}')\n",
    "\n",
    "sns.heatmap(confusion_matrix(y_pred_train, y_train), annot=True, fmt=\"d\", cmap='Blues')\n",
    "plt.ylabel('True')\n",
    "plt.xlabel('Predicted')\n",
    "\n",
    "plt.show()"
   ]
  },
  {
   "cell_type": "code",
   "execution_count": null,
   "metadata": {},
   "outputs": [],
   "source": [
    "# save predictions for kaggle competition\n",
    "\n",
    "df_test = pd.read_csv('../data/test_location.csv')\n",
    "\n",
    "X_test = df_test.drop('id', axis=1)\n",
    "\n",
    "y_test = np.clip(np.round(final_model.predict(X_test)), 0, 5)\n",
    "\n",
    "df_test['price'] = y_test\n",
    "df_test['price'] = df_test['price'].astype(int)\n",
    "\n",
    "df_test['id'] = df_test['id'].astype(int)\n",
    "\n",
    "df_test[['id', 'price']].to_csv('../predictions/final.csv', index=False)"
   ]
  },
  {
   "cell_type": "code",
   "execution_count": null,
   "metadata": {},
   "outputs": [],
   "source": [
    "# plot feature importance\n",
    "import matplotlib.pyplot as plt\n",
    "\n",
    "importances = final_model.feature_importances_\n",
    "indices = np.argsort(importances)[::-1]\n",
    "\n",
    "top_n = min(50, X.shape[1])\n",
    "plt.figure(figsize=(25, 5))\n",
    "plt.title(f\"Top {top_n} Feature Importances\")\n",
    "plt.bar(range(top_n), importances[indices[:top_n]], align=\"center\")\n",
    "plt.xticks(range(top_n), X.columns[indices[:top_n]], rotation=90)\n",
    "plt.xlim([-1, top_n])\n",
    "plt.show()"
   ]
  },
  {
   "cell_type": "code",
   "execution_count": null,
   "metadata": {},
   "outputs": [],
   "source": [
    "# print least important features\n",
    "print(\"Least important features:\")\n",
    "\n",
    "indices = np.argsort(importances)\n",
    "\n",
    "top_n = min(50, X.shape[1])\n",
    "plt.figure(figsize=(25, 5))\n",
    "plt.title(f\"Least {top_n} Feature Importances\")\n",
    "plt.bar(range(top_n), importances[indices[:top_n]], align=\"center\")\n",
    "plt.xticks(range(top_n), X.columns[indices[:top_n]], rotation=90)\n",
    "plt.xlim([-1, top_n])\n",
    "plt.show()"
   ]
  }
 ],
 "metadata": {
  "kernelspec": {
   "display_name": "venv",
   "language": "python",
   "name": "python3"
  },
  "language_info": {
   "codemirror_mode": {
    "name": "ipython",
    "version": 3
   },
   "file_extension": ".py",
   "mimetype": "text/x-python",
   "name": "python",
   "nbconvert_exporter": "python",
   "pygments_lexer": "ipython3",
   "version": "3.12.7"
  }
 },
 "nbformat": 4,
 "nbformat_minor": 2
}
