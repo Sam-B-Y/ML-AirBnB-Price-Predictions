{
 "cells": [
  {
   "cell_type": "code",
   "execution_count": null,
   "metadata": {},
   "outputs": [],
   "source": [
    "import pandas as pd\n",
    "import numpy as np\n",
    "from sklearn.model_selection import train_test_split\n",
    "import matplotlib.pyplot as plt\n",
    "from sklearn.ensemble import RandomForestRegressor\n",
    "from sklearn.metrics import mean_squared_error\n",
    "from sklearn.metrics import confusion_matrix\n",
    "import seaborn as sns  \n",
    "from sklearn.model_selection import GridSearchCV, RandomizedSearchCV\n",
    "\n",
    "pd.set_option('display.max_columns', None)"
   ]
  },
  {
   "cell_type": "code",
   "execution_count": null,
   "metadata": {},
   "outputs": [],
   "source": [
    "df = pd.read_csv('../data/train_final.csv')\n",
    "# if skipping the hyperparameter tuning, load the best model\n",
    "best_params = {'bootstrap': False, 'max_depth': 30, 'max_features': 50, 'n_estimators': 500, 'max_leaf_nodes': None, 'min_samples_leaf': 5, 'ccp_alpha': 0.0}\n",
    "df.head()"
   ]
  },
  {
   "cell_type": "code",
   "execution_count": null,
   "metadata": {},
   "outputs": [],
   "source": [
    "X = df.drop('price', axis=1)\n",
    "df['price'] = df['price'].astype(float)\n",
    "\n",
    "y = df['price']"
   ]
  },
  {
   "cell_type": "code",
   "execution_count": null,
   "metadata": {},
   "outputs": [],
   "source": [
    "param_grid = {\n",
    "    'n_estimators': [100, 200, 500, 1000], \n",
    "    'max_depth': [20, 30, 40], \n",
    "    'min_samples_leaf': [5, 15, 30],\n",
    "    'max_features': ['auto', 50, 63],\n",
    "    'bootstrap': [True, False], \n",
    "    'max_leaf_nodes': [None, 30, 50, 100],\n",
    "    'ccp_alpha': [0.0, 0.1, 0.2]\n",
    "}\n",
    "\n",
    "rf = RandomForestRegressor()\n",
    "\n",
    "grid_search = RandomizedSearchCV(estimator=rf, param_distributions=param_grid, cv=5, n_iter=500, verbose=2, n_jobs=-1)\n",
    "\n",
    "grid_search.fit(X, y)\n",
    "\n",
    "print(\"Best parameters found: \")\n",
    "print(grid_search.best_params_)\n",
    "\n",
    "best_rf = grid_search.best_estimator_\n",
    "best_params = grid_search.best_params_"
   ]
  },
  {
   "cell_type": "code",
   "execution_count": null,
   "metadata": {},
   "outputs": [],
   "source": [
    "# train test split\n",
    "X_train, X_test, y_train, y_test = train_test_split(X, y, test_size=0.15)"
   ]
  },
  {
   "cell_type": "code",
   "execution_count": null,
   "metadata": {},
   "outputs": [],
   "source": [
    "best_rf = RandomForestRegressor(**best_params, n_jobs=-1)"
   ]
  },
  {
   "cell_type": "code",
   "execution_count": null,
   "metadata": {},
   "outputs": [],
   "source": [
    "best_rf.fit(X_train, y_train)"
   ]
  },
  {
   "cell_type": "code",
   "execution_count": null,
   "metadata": {},
   "outputs": [],
   "source": [
    "# check the model performance in rmse on the validation set\n",
    "y_pred = best_rf.predict(X_test)\n",
    "y_pred = np.round(y_pred).astype(int)\n",
    "y_pred = np.clip(y_pred, 0, 5)\n",
    "\n",
    "rmse = np.sqrt(np.mean((y_test - y_pred) ** 2))\n",
    "\n",
    "print(f\"RMSE: {rmse}\")\n",
    "\n",
    "conf_matrix = confusion_matrix(y_test, y_pred)\n",
    "plt.figure(figsize=(10, 7))\n",
    "sns.heatmap(conf_matrix, annot=True, fmt=\"d\", cmap='Blues')\n",
    "plt.xlabel('Predicted labels')\n",
    "plt.ylabel('True labels')\n",
    "\n",
    "plt.show()"
   ]
  },
  {
   "cell_type": "code",
   "execution_count": null,
   "metadata": {},
   "outputs": [],
   "source": [
    "# check the train rmse to see if the model is overfitting\n",
    "y_train_pred = best_rf.predict(X_train)\n",
    "\n",
    "y_train_pred = np.clip(np.round(y_train_pred), 0, 5)\n",
    "rmse = np.sqrt(mean_squared_error(y_train, y_train_pred))\n",
    "print(f'Train RMSE: {rmse}')\n",
    "\n",
    "conf_matrix = confusion_matrix(y_train, y_train_pred)\n",
    "plt.figure(figsize=(10, 7))\n",
    "sns.heatmap(conf_matrix, annot=True, fmt=\"d\", cmap='Blues')\n",
    "plt.xlabel('Predicted labels')\n",
    "plt.ylabel('True labels')\n",
    "\n",
    "plt.show()"
   ]
  },
  {
   "cell_type": "code",
   "execution_count": null,
   "metadata": {},
   "outputs": [],
   "source": [
    "importances = best_rf.feature_importances_\n",
    "indices = np.argsort(importances)[::-1]\n",
    "\n",
    "print(\"Feature ranking:\")\n",
    "for f in range(X.shape[1]):\n",
    "    print(f\"{f + 1}. {X.columns[indices[f]]} ({importances[indices[f]]})\")"
   ]
  },
  {
   "cell_type": "code",
   "execution_count": null,
   "metadata": {},
   "outputs": [],
   "source": [
    "top_n = min(50, X.shape[1])\n",
    "plt.figure(figsize=(25, 5))\n",
    "plt.title(f\"Top {top_n} Feature Importances\")\n",
    "plt.bar(range(top_n), importances[indices[:top_n]], align=\"center\")\n",
    "plt.xticks(range(top_n), X.columns[indices[:top_n]], rotation=90)\n",
    "plt.xlim([-1, top_n])\n",
    "plt.show()"
   ]
  },
  {
   "cell_type": "code",
   "execution_count": null,
   "metadata": {},
   "outputs": [],
   "source": [
    "# make predictions\n",
    "df_test = pd.read_csv('../data/test_final.csv')\n",
    "df_test.drop(['id'], axis=1, inplace=True)\n",
    "\n",
    "y_pred = best_rf.predict(df_test)\n",
    "y_pred_rounded = np.round(y_pred).astype(int)\n",
    "y_test_pred_rounded = np.clip(y_pred_rounded, 0, 5)\n",
    "\n",
    "# save predictions by id\n",
    "df_test = pd.read_csv('../data/test_final.csv')\n",
    "df_test['price'] = y_test_pred_rounded\n",
    "\n",
    "df_test['price'] = df_test['price'].astype(int)\n",
    "\n",
    "df_test['id'] = df_test['id'].astype(int)\n",
    "\n",
    "df_test[['id', 'price']].to_csv('../predictions/descision_tree_2.csv', index=False)"
   ]
  }
 ],
 "metadata": {
  "kernelspec": {
   "display_name": "venv",
   "language": "python",
   "name": "python3"
  },
  "language_info": {
   "codemirror_mode": {
    "name": "ipython",
    "version": 3
   },
   "file_extension": ".py",
   "mimetype": "text/x-python",
   "name": "python",
   "nbconvert_exporter": "python",
   "pygments_lexer": "ipython3",
   "version": "3.12.7"
  }
 },
 "nbformat": 4,
 "nbformat_minor": 2
}
